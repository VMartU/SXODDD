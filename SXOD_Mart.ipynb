{
 "cells": [
  {
   "cell_type": "code",
   "execution_count": 2,
   "metadata": {},
   "outputs": [
    {
     "ename": "SyntaxError",
     "evalue": "invalid syntax (4117166252.py, line 1)",
     "output_type": "error",
     "traceback": [
      "\u001b[1;36m  Cell \u001b[1;32mIn[2], line 1\u001b[1;36m\u001b[0m\n\u001b[1;33m    Table customers {\u001b[0m\n\u001b[1;37m          ^\u001b[0m\n\u001b[1;31mSyntaxError\u001b[0m\u001b[1;31m:\u001b[0m invalid syntax\n"
     ]
    }
   ],
   "source": [
    "Table customers {\n",
    "    customer_id integer [primary key] ## Уникальный идентификатор клиента\n",
    "    first_name varchar ## Имя клиента\n",
    "    last_name varchar ## Фамилия клиента\n",
    "    gender varchar ## Пол\n",
    "    DOB date ## Дата рождения\n",
    "    job_title varchar ## Должность\n",
    "    job_industry_category varchar ## Категория индустрии\n",
    "    wealth_segment varchar ## Сегмент благосостояния\n",
    "    deceased_indicator varchar ## Признак умершего клиента\n",
    "    owns_car varchar ## Владеет ли клиент автомобилем (Yes/No)\n",
    "    address varchar ## Адрес\n",
    "    postcode integer ## Почтовый индекс\n",
    "    state varchar ## Штат\n",
    "    country varchar ## Страна\n",
    "    property_valuation integer ## Оценочная стоимость собственности\n",
    "}\n",
    "\n",
    "Table products {\n",
    "    product_id integer [primary key] ## Уникальный идентификатор продукта\n",
    "    brand varchar ## Бренд\n",
    "    product_line varchar ## Линейка продукта\n",
    "    product_class varchar ## Класс продукта\n",
    "    product_size varchar ## Размер продукта\n",
    "    list_price decimal ## Цена продукта\n",
    "    standard_cost decimal ## Себестоимость продукта\n",
    "}\n",
    "\n",
    "Table transactions {\n",
    "    transaction_id integer [primary key] ## Уникальный идентификатор транзакции\n",
    "    customer_id integer [ref: > customers.customer_id] ## Ссылка на клиента\n",
    "    product_id integer [ref: > products.product_id] ## Ссылка на продукт\n",
    "    transaction_date timestamp ## Дата транзакции\n",
    "    online_order boolean ## Оформлен ли заказ онлайн\n",
    "    order_status varchar ## Статус заказа\n",
    "}"
   ]
  },
  {
   "cell_type": "markdown",
   "metadata": {},
   "source": [
    "![Структура БД](Screenshot_1.png)\n",
    "\n"
   ]
  },
  {
   "cell_type": "markdown",
   "metadata": {},
   "source": [
    "## 1. Перевод в Первую нормальную форму (1НФ)\n",
    "\n",
    "- В некоторых колонках могут встречаться многозначные значения (например, если один клиент может иметь несколько адресов или несколько сегментов богатства).\n",
    "- Поля job_title и job_industry_category зависят от клиента, но могут повторяться.\n",
    "\n",
    "![Описание изображения](Screenshot_2.png)\n",
    "\n"
   ]
  },
  {
   "cell_type": "markdown",
   "metadata": {},
   "source": [
    "## 2. Перевод во Вторую нормальную форму (2НФ)\n",
    "\n",
    "- wealth_segment и property_valuation зависят только от customer_id, но не связаны с транзакциями.\n",
    "\n",
    "- job_title и job_industry_category относятся к клиенту и должны быть отделены от customers.\n",
    "\n",
    "![Описание изображения](Screenshot_3.png)\n",
    "\n"
   ]
  },
  {
   "cell_type": "markdown",
   "metadata": {},
   "source": [
    "## 3. Перевод в Третью нормальную форму (3НФ)\n",
    "\n",
    "- postcode определяет state и country, но они находятся в addresses, а значит, зависят от postcode.\n",
    "\n",
    "- wealth_segment и property_valuation связаны между собой (определенный wealth_segment всегда имеет типичный property_valuation).\n",
    "\n",
    "![Описание изображения](Screenshot_4.png)"
   ]
  },
  {
   "cell_type": "code",
   "execution_count": 5,
   "metadata": {},
   "outputs": [
    {
     "name": "stdout",
     "output_type": "stream",
     "text": [
      "Таблицы успешно созданы!\n"
     ]
    }
   ],
   "source": [
    "import sqlite3\n",
    "\n",
    "# Подключение к базе данных (замени на свою БД)\n",
    "conn = sqlite3.connect(\"database.db\")  \n",
    "cursor = conn.cursor()\n",
    "\n",
    "# Создание таблицы клиентов\n",
    "cursor.execute(\"\"\"\n",
    "CREATE TABLE IF NOT EXISTS customers (\n",
    "    customer_id INTEGER PRIMARY KEY,\n",
    "    first_name TEXT NOT NULL,\n",
    "    last_name TEXT NOT NULL,\n",
    "    gender TEXT CHECK(gender IN ('Male', 'Female')),\n",
    "    dob DATE NOT NULL,\n",
    "    job_title TEXT,\n",
    "    job_industry_category TEXT,\n",
    "    wealth_segment TEXT,\n",
    "    owns_car TEXT CHECK(owns_car IN ('Yes', 'No')),\n",
    "    address TEXT,\n",
    "    postcode INTEGER,\n",
    "    state TEXT,\n",
    "    country TEXT,\n",
    "    property_valuation INTEGER\n",
    ");\n",
    "\"\"\")\n",
    "\n",
    "# Создание таблицы транзакций\n",
    "cursor.execute(\"\"\"\n",
    "CREATE TABLE IF NOT EXISTS transactions (\n",
    "    transaction_id INTEGER PRIMARY KEY,\n",
    "    product_id INTEGER NOT NULL,\n",
    "    customer_id INTEGER NOT NULL,\n",
    "    transaction_date DATE NOT NULL,\n",
    "    online_order TEXT CHECK(online_order IN ('True', 'False')),\n",
    "    order_status TEXT,\n",
    "    brand TEXT,\n",
    "    product_line TEXT,\n",
    "    product_class TEXT,\n",
    "    product_size TEXT,\n",
    "    list_price REAL NOT NULL,\n",
    "    standard_cost REAL NOT NULL,\n",
    "    FOREIGN KEY (customer_id) REFERENCES customers(customer_id)\n",
    ");\n",
    "\"\"\")\n",
    "\n",
    "# Создание таблицы продуктов (опционально, если есть отдельный справочник)\n",
    "cursor.execute(\"\"\"\n",
    "CREATE TABLE IF NOT EXISTS products (\n",
    "    product_id INTEGER PRIMARY KEY,\n",
    "    brand TEXT NOT NULL,\n",
    "    product_line TEXT,\n",
    "    product_class TEXT,\n",
    "    product_size TEXT\n",
    ");\n",
    "\"\"\")\n",
    "\n",
    "conn.commit()\n",
    "print(\"Таблицы успешно созданы!\")\n"
   ]
  },
  {
   "cell_type": "code",
   "execution_count": 9,
   "metadata": {},
   "outputs": [
    {
     "name": "stdout",
     "output_type": "stream",
     "text": [
      "Данные успешно загружены в базу данных!\n"
     ]
    }
   ],
   "source": [
    "import pandas as pd\n",
    "\n",
    "# Загрузка данных\n",
    "customers_df = pd.read_excel(r\"C:\\Users\\Home\\Downloads\\customer_and_transaction.xlsx\", sheet_name=\"customer\")\n",
    "transactions_df = pd.read_excel(r\"C:\\Users\\Home\\Downloads\\customer_and_transaction.xlsx\", sheet_name=\"transaction\")\n",
    "\n",
    "# Запись данных в таблицы customers\n",
    "customers_df.to_sql(\"customer\", conn, if_exists=\"append\", index=False)\n",
    "\n",
    "# Запись данных в таблицы transactions\n",
    "transactions_df.to_sql(\"transaction\", conn, if_exists=\"append\", index=False)\n",
    "\n",
    "print(\"Данные успешно загружены в базу данных!\")\n"
   ]
  },
  {
   "cell_type": "code",
   "execution_count": 10,
   "metadata": {},
   "outputs": [
    {
     "name": "stdout",
     "output_type": "stream",
     "text": [
      "Empty DataFrame\n",
      "Columns: [customer_id, first_name, last_name, gender, dob, job_title, job_industry_category, wealth_segment, owns_car, address, postcode, state, country, property_valuation]\n",
      "Index: []\n",
      "Empty DataFrame\n",
      "Columns: [transaction_id, product_id, customer_id, transaction_date, online_order, order_status, brand, product_line, product_class, product_size, list_price, standard_cost]\n",
      "Index: []\n"
     ]
    }
   ],
   "source": [
    "print(pd.read_sql(\"SELECT * FROM customers LIMIT 5;\", conn))\n",
    "print(pd.read_sql(\"SELECT * FROM transactions LIMIT 5;\", conn))"
   ]
  }
 ],
 "metadata": {
  "kernelspec": {
   "display_name": "Python 3",
   "language": "python",
   "name": "python3"
  },
  "language_info": {
   "codemirror_mode": {
    "name": "ipython",
    "version": 3
   },
   "file_extension": ".py",
   "mimetype": "text/x-python",
   "name": "python",
   "nbconvert_exporter": "python",
   "pygments_lexer": "ipython3",
   "version": "3.12.4"
  }
 },
 "nbformat": 4,
 "nbformat_minor": 2
}
